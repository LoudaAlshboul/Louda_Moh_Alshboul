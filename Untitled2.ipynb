{
  "nbformat": 4,
  "nbformat_minor": 0,
  "metadata": {
    "colab": {
      "provenance": [],
      "authorship_tag": "ABX9TyOGdfzq/MM6qv7AUtnDdj+M",
      "include_colab_link": true
    },
    "kernelspec": {
      "name": "python3",
      "display_name": "Python 3"
    },
    "language_info": {
      "name": "python"
    }
  },
  "cells": [
    {
      "cell_type": "markdown",
      "metadata": {
        "id": "view-in-github",
        "colab_type": "text"
      },
      "source": [
        "<a href=\"https://colab.research.google.com/github/LoudaAlshboul/Louda_Moh_Alshboul/blob/main/Untitled2.ipynb\" target=\"_parent\"><img src=\"https://colab.research.google.com/assets/colab-badge.svg\" alt=\"Open In Colab\"/></a>"
      ]
    },
    {
      "cell_type": "code",
      "source": [
        "# Import necessary libraries\n",
        "import pandas as pd\n",
        "import numpy as np\n",
        "from keras.models import Sequential\n",
        "from keras.layers import Dense\n",
        "from keras.optimizers import SGD\n",
        "from sklearn.model_selection import train_test_split\n",
        "from sklearn.preprocessing import StandardScaler\n",
        "from sklearn.metrics import mean_squared_error\n",
        "from google.colab import files"
      ],
      "metadata": {
        "id": "Xn4Odybt2COM"
      },
      "execution_count": 15,
      "outputs": []
    },
    {
      "cell_type": "code",
      "source": [
        "# Upload the file\n",
        "uploaded = files.upload()"
      ],
      "metadata": {
        "colab": {
          "base_uri": "https://localhost:8080/",
          "height": 71
        },
        "id": "m0Gahm6h2CL-",
        "outputId": "2eae3199-d212-4f7f-9556-ce16691b6fb1"
      },
      "execution_count": 16,
      "outputs": [
        {
          "output_type": "display_data",
          "data": {
            "text/plain": [
              "<IPython.core.display.HTML object>"
            ],
            "text/html": [
              "\n",
              "     <input type=\"file\" id=\"files-802785a6-3344-4502-ab49-79543673ac12\" name=\"files[]\" multiple disabled\n",
              "        style=\"border:none\" />\n",
              "     <output id=\"result-802785a6-3344-4502-ab49-79543673ac12\">\n",
              "      Upload widget is only available when the cell has been executed in the\n",
              "      current browser session. Please rerun this cell to enable.\n",
              "      </output>\n",
              "      <script>// Copyright 2017 Google LLC\n",
              "//\n",
              "// Licensed under the Apache License, Version 2.0 (the \"License\");\n",
              "// you may not use this file except in compliance with the License.\n",
              "// You may obtain a copy of the License at\n",
              "//\n",
              "//      http://www.apache.org/licenses/LICENSE-2.0\n",
              "//\n",
              "// Unless required by applicable law or agreed to in writing, software\n",
              "// distributed under the License is distributed on an \"AS IS\" BASIS,\n",
              "// WITHOUT WARRANTIES OR CONDITIONS OF ANY KIND, either express or implied.\n",
              "// See the License for the specific language governing permissions and\n",
              "// limitations under the License.\n",
              "\n",
              "/**\n",
              " * @fileoverview Helpers for google.colab Python module.\n",
              " */\n",
              "(function(scope) {\n",
              "function span(text, styleAttributes = {}) {\n",
              "  const element = document.createElement('span');\n",
              "  element.textContent = text;\n",
              "  for (const key of Object.keys(styleAttributes)) {\n",
              "    element.style[key] = styleAttributes[key];\n",
              "  }\n",
              "  return element;\n",
              "}\n",
              "\n",
              "// Max number of bytes which will be uploaded at a time.\n",
              "const MAX_PAYLOAD_SIZE = 100 * 1024;\n",
              "\n",
              "function _uploadFiles(inputId, outputId) {\n",
              "  const steps = uploadFilesStep(inputId, outputId);\n",
              "  const outputElement = document.getElementById(outputId);\n",
              "  // Cache steps on the outputElement to make it available for the next call\n",
              "  // to uploadFilesContinue from Python.\n",
              "  outputElement.steps = steps;\n",
              "\n",
              "  return _uploadFilesContinue(outputId);\n",
              "}\n",
              "\n",
              "// This is roughly an async generator (not supported in the browser yet),\n",
              "// where there are multiple asynchronous steps and the Python side is going\n",
              "// to poll for completion of each step.\n",
              "// This uses a Promise to block the python side on completion of each step,\n",
              "// then passes the result of the previous step as the input to the next step.\n",
              "function _uploadFilesContinue(outputId) {\n",
              "  const outputElement = document.getElementById(outputId);\n",
              "  const steps = outputElement.steps;\n",
              "\n",
              "  const next = steps.next(outputElement.lastPromiseValue);\n",
              "  return Promise.resolve(next.value.promise).then((value) => {\n",
              "    // Cache the last promise value to make it available to the next\n",
              "    // step of the generator.\n",
              "    outputElement.lastPromiseValue = value;\n",
              "    return next.value.response;\n",
              "  });\n",
              "}\n",
              "\n",
              "/**\n",
              " * Generator function which is called between each async step of the upload\n",
              " * process.\n",
              " * @param {string} inputId Element ID of the input file picker element.\n",
              " * @param {string} outputId Element ID of the output display.\n",
              " * @return {!Iterable<!Object>} Iterable of next steps.\n",
              " */\n",
              "function* uploadFilesStep(inputId, outputId) {\n",
              "  const inputElement = document.getElementById(inputId);\n",
              "  inputElement.disabled = false;\n",
              "\n",
              "  const outputElement = document.getElementById(outputId);\n",
              "  outputElement.innerHTML = '';\n",
              "\n",
              "  const pickedPromise = new Promise((resolve) => {\n",
              "    inputElement.addEventListener('change', (e) => {\n",
              "      resolve(e.target.files);\n",
              "    });\n",
              "  });\n",
              "\n",
              "  const cancel = document.createElement('button');\n",
              "  inputElement.parentElement.appendChild(cancel);\n",
              "  cancel.textContent = 'Cancel upload';\n",
              "  const cancelPromise = new Promise((resolve) => {\n",
              "    cancel.onclick = () => {\n",
              "      resolve(null);\n",
              "    };\n",
              "  });\n",
              "\n",
              "  // Wait for the user to pick the files.\n",
              "  const files = yield {\n",
              "    promise: Promise.race([pickedPromise, cancelPromise]),\n",
              "    response: {\n",
              "      action: 'starting',\n",
              "    }\n",
              "  };\n",
              "\n",
              "  cancel.remove();\n",
              "\n",
              "  // Disable the input element since further picks are not allowed.\n",
              "  inputElement.disabled = true;\n",
              "\n",
              "  if (!files) {\n",
              "    return {\n",
              "      response: {\n",
              "        action: 'complete',\n",
              "      }\n",
              "    };\n",
              "  }\n",
              "\n",
              "  for (const file of files) {\n",
              "    const li = document.createElement('li');\n",
              "    li.append(span(file.name, {fontWeight: 'bold'}));\n",
              "    li.append(span(\n",
              "        `(${file.type || 'n/a'}) - ${file.size} bytes, ` +\n",
              "        `last modified: ${\n",
              "            file.lastModifiedDate ? file.lastModifiedDate.toLocaleDateString() :\n",
              "                                    'n/a'} - `));\n",
              "    const percent = span('0% done');\n",
              "    li.appendChild(percent);\n",
              "\n",
              "    outputElement.appendChild(li);\n",
              "\n",
              "    const fileDataPromise = new Promise((resolve) => {\n",
              "      const reader = new FileReader();\n",
              "      reader.onload = (e) => {\n",
              "        resolve(e.target.result);\n",
              "      };\n",
              "      reader.readAsArrayBuffer(file);\n",
              "    });\n",
              "    // Wait for the data to be ready.\n",
              "    let fileData = yield {\n",
              "      promise: fileDataPromise,\n",
              "      response: {\n",
              "        action: 'continue',\n",
              "      }\n",
              "    };\n",
              "\n",
              "    // Use a chunked sending to avoid message size limits. See b/62115660.\n",
              "    let position = 0;\n",
              "    do {\n",
              "      const length = Math.min(fileData.byteLength - position, MAX_PAYLOAD_SIZE);\n",
              "      const chunk = new Uint8Array(fileData, position, length);\n",
              "      position += length;\n",
              "\n",
              "      const base64 = btoa(String.fromCharCode.apply(null, chunk));\n",
              "      yield {\n",
              "        response: {\n",
              "          action: 'append',\n",
              "          file: file.name,\n",
              "          data: base64,\n",
              "        },\n",
              "      };\n",
              "\n",
              "      let percentDone = fileData.byteLength === 0 ?\n",
              "          100 :\n",
              "          Math.round((position / fileData.byteLength) * 100);\n",
              "      percent.textContent = `${percentDone}% done`;\n",
              "\n",
              "    } while (position < fileData.byteLength);\n",
              "  }\n",
              "\n",
              "  // All done.\n",
              "  yield {\n",
              "    response: {\n",
              "      action: 'complete',\n",
              "    }\n",
              "  };\n",
              "}\n",
              "\n",
              "scope.google = scope.google || {};\n",
              "scope.google.colab = scope.google.colab || {};\n",
              "scope.google.colab._files = {\n",
              "  _uploadFiles,\n",
              "  _uploadFilesContinue,\n",
              "};\n",
              "})(self);\n",
              "</script> "
            ]
          },
          "metadata": {}
        },
        {
          "output_type": "stream",
          "name": "stdout",
          "text": [
            "Saving Boston.csv to Boston (4).csv\n"
          ]
        }
      ]
    },
    {
      "cell_type": "code",
      "source": [
        "# Print the names of uploaded files to confirm\n",
        "print(uploaded.keys())"
      ],
      "metadata": {
        "colab": {
          "base_uri": "https://localhost:8080/"
        },
        "id": "kA4CpNZm2CKW",
        "outputId": "afa0a0d0-8e99-435f-ad6b-ce0997af83a8"
      },
      "execution_count": 17,
      "outputs": [
        {
          "output_type": "stream",
          "name": "stdout",
          "text": [
            "dict_keys(['Boston (4).csv'])\n"
          ]
        }
      ]
    },
    {
      "cell_type": "code",
      "source": [
        "# Load the dataset into a Pandas DataFrame using the correct file name\n",
        "file_name = list(uploaded.keys())[0]\n",
        "data = pd.read_csv(io.BytesIO(uploaded[file_name]))"
      ],
      "metadata": {
        "id": "PrSiF4Ix2CI_"
      },
      "execution_count": 18,
      "outputs": []
    },
    {
      "cell_type": "code",
      "source": [
        "# Display the first few rows of the dataset to understand its structure\n",
        "print(data.head())"
      ],
      "metadata": {
        "colab": {
          "base_uri": "https://localhost:8080/"
        },
        "id": "UO0pRixL2CEN",
        "outputId": "f6fc1525-8be0-479f-9a6b-c8c81297516d"
      },
      "execution_count": 19,
      "outputs": [
        {
          "output_type": "stream",
          "name": "stdout",
          "text": [
            "      RM  LSTAT  PTRATIO      MEDV\n",
            "0  6.575   4.98     15.3  504000.0\n",
            "1  6.421   9.14     17.8  453600.0\n",
            "2  7.185   4.03     17.8  728700.0\n",
            "3  6.998   2.94     18.7  701400.0\n",
            "4  7.147   5.33     18.7  760200.0\n"
          ]
        }
      ]
    },
    {
      "cell_type": "code",
      "source": [
        "\n",
        "# Check for NaN values in the dataset\n",
        "nan_values = data.isna().sum()\n",
        "print(\"NaN values in the dataset:\")\n",
        "print(nan_values)"
      ],
      "metadata": {
        "colab": {
          "base_uri": "https://localhost:8080/"
        },
        "id": "XXXKsp-t2CBO",
        "outputId": "206a84fb-2ec2-4e7b-d4e6-30dea85bfd66"
      },
      "execution_count": 20,
      "outputs": [
        {
          "output_type": "stream",
          "name": "stdout",
          "text": [
            "NaN values in the dataset:\n",
            "RM         0\n",
            "LSTAT      0\n",
            "PTRATIO    0\n",
            "MEDV       0\n",
            "dtype: int64\n"
          ]
        }
      ]
    },
    {
      "cell_type": "code",
      "source": [
        "# Impute NaN values with the mean of each respective feature\n",
        "data_imputed = data.fillna(data.mean())"
      ],
      "metadata": {
        "id": "5uSMTanG2B-d"
      },
      "execution_count": 31,
      "outputs": []
    },
    {
      "cell_type": "code",
      "source": [
        "# Ensure there are no NaN values left\n",
        "nan_values_after_imputation = data_imputed.isna().sum()\n",
        "print(\"NaN values after imputation in the dataset:\")\n",
        "print(nan_values_after_imputation)"
      ],
      "metadata": {
        "colab": {
          "base_uri": "https://localhost:8080/"
        },
        "id": "7j_NVUGz2B75",
        "outputId": "c298d2e0-3289-4202-dfc6-eaa223407998"
      },
      "execution_count": 22,
      "outputs": [
        {
          "output_type": "stream",
          "name": "stdout",
          "text": [
            "NaN values after imputation in the dataset:\n",
            "RM         0\n",
            "LSTAT      0\n",
            "PTRATIO    0\n",
            "MEDV       0\n",
            "dtype: int64\n"
          ]
        }
      ]
    },
    {
      "cell_type": "code",
      "source": [
        "\n",
        "# Separate features (X) and target variable (y) from the cleaned data\n",
        "X = data_imputed.drop(columns=['MEDV'])  # Assuming the target column is named 'MEDV'\n",
        "y = data_imputed['MEDV']"
      ],
      "metadata": {
        "id": "tg15-30n2B49"
      },
      "execution_count": 32,
      "outputs": []
    },
    {
      "cell_type": "code",
      "source": [
        "# Split the cleaned data into training and testing sets\n",
        "X_train, X_test, y_train, y_test = train_test_split(X, y, test_size=0.2, random_state=42)"
      ],
      "metadata": {
        "id": "2DHxsoDA2B1H"
      },
      "execution_count": 33,
      "outputs": []
    },
    {
      "cell_type": "code",
      "source": [
        "\n",
        "# Normalize the features using StandardScaler\n",
        "scaler = StandardScaler()\n",
        "X_train_scaled = scaler.fit_transform(X_train)\n",
        "X_test_scaled = scaler.transform(X_test)"
      ],
      "metadata": {
        "id": "2VQAZvlj2BwD"
      },
      "execution_count": 34,
      "outputs": []
    },
    {
      "cell_type": "code",
      "source": [
        "# Build the neural network model\n",
        "model = Sequential()\n",
        "model.add(Dense(64, input_dim=X_train_scaled.shape[1], activation='relu'))\n",
        "model.add(Dense(32, activation='relu'))\n",
        "model.add(Dense(1, activation=None))  # Linear activation for regression"
      ],
      "metadata": {
        "id": "WV14TzYI2Ak2"
      },
      "execution_count": 35,
      "outputs": []
    },
    {
      "cell_type": "code",
      "source": [
        "\n",
        "# Compile the model\n",
        "model.compile(optimizer=SGD(lr=0.001), loss='mean_squared_error')"
      ],
      "metadata": {
        "colab": {
          "base_uri": "https://localhost:8080/"
        },
        "id": "UF379TXS2YaZ",
        "outputId": "6719d9a2-d754-4334-ac73-5e4b600f05d3"
      },
      "execution_count": 36,
      "outputs": [
        {
          "output_type": "stream",
          "name": "stderr",
          "text": [
            "WARNING:absl:`lr` is deprecated in Keras optimizer, please use `learning_rate` or use the legacy optimizer, e.g.,tf.keras.optimizers.legacy.SGD.\n"
          ]
        }
      ]
    },
    {
      "cell_type": "code",
      "source": [
        "# Train the model\n",
        "model.fit(X_train_scaled, y_train, epochs=100, batch_size=32, validation_split=0.2)"
      ],
      "metadata": {
        "colab": {
          "base_uri": "https://localhost:8080/"
        },
        "id": "t4FOaSbN2YY-",
        "outputId": "548153d6-f5c7-48f6-c949-089e2b62e2f4"
      },
      "execution_count": 37,
      "outputs": [
        {
          "output_type": "stream",
          "name": "stdout",
          "text": [
            "Epoch 1/100\n",
            "10/10 [==============================] - 1s 19ms/step - loss: nan - val_loss: nan\n",
            "Epoch 2/100\n",
            "10/10 [==============================] - 0s 7ms/step - loss: nan - val_loss: nan\n",
            "Epoch 3/100\n",
            "10/10 [==============================] - 0s 7ms/step - loss: nan - val_loss: nan\n",
            "Epoch 4/100\n",
            "10/10 [==============================] - 0s 7ms/step - loss: nan - val_loss: nan\n",
            "Epoch 5/100\n",
            "10/10 [==============================] - 0s 5ms/step - loss: nan - val_loss: nan\n",
            "Epoch 6/100\n",
            "10/10 [==============================] - 0s 7ms/step - loss: nan - val_loss: nan\n",
            "Epoch 7/100\n",
            "10/10 [==============================] - 0s 6ms/step - loss: nan - val_loss: nan\n",
            "Epoch 8/100\n",
            "10/10 [==============================] - 0s 7ms/step - loss: nan - val_loss: nan\n",
            "Epoch 9/100\n",
            "10/10 [==============================] - 0s 8ms/step - loss: nan - val_loss: nan\n",
            "Epoch 10/100\n",
            "10/10 [==============================] - 0s 10ms/step - loss: nan - val_loss: nan\n",
            "Epoch 11/100\n",
            "10/10 [==============================] - 0s 8ms/step - loss: nan - val_loss: nan\n",
            "Epoch 12/100\n",
            "10/10 [==============================] - 0s 9ms/step - loss: nan - val_loss: nan\n",
            "Epoch 13/100\n",
            "10/10 [==============================] - 0s 10ms/step - loss: nan - val_loss: nan\n",
            "Epoch 14/100\n",
            "10/10 [==============================] - 0s 9ms/step - loss: nan - val_loss: nan\n",
            "Epoch 15/100\n",
            "10/10 [==============================] - 0s 9ms/step - loss: nan - val_loss: nan\n",
            "Epoch 16/100\n",
            "10/10 [==============================] - 0s 8ms/step - loss: nan - val_loss: nan\n",
            "Epoch 17/100\n",
            "10/10 [==============================] - 0s 10ms/step - loss: nan - val_loss: nan\n",
            "Epoch 18/100\n",
            "10/10 [==============================] - 0s 9ms/step - loss: nan - val_loss: nan\n",
            "Epoch 19/100\n",
            "10/10 [==============================] - 0s 8ms/step - loss: nan - val_loss: nan\n",
            "Epoch 20/100\n",
            "10/10 [==============================] - 0s 8ms/step - loss: nan - val_loss: nan\n",
            "Epoch 21/100\n",
            "10/10 [==============================] - 0s 9ms/step - loss: nan - val_loss: nan\n",
            "Epoch 22/100\n",
            "10/10 [==============================] - 0s 9ms/step - loss: nan - val_loss: nan\n",
            "Epoch 23/100\n",
            "10/10 [==============================] - 0s 9ms/step - loss: nan - val_loss: nan\n",
            "Epoch 24/100\n",
            "10/10 [==============================] - 0s 7ms/step - loss: nan - val_loss: nan\n",
            "Epoch 25/100\n",
            "10/10 [==============================] - 0s 7ms/step - loss: nan - val_loss: nan\n",
            "Epoch 26/100\n",
            "10/10 [==============================] - 0s 7ms/step - loss: nan - val_loss: nan\n",
            "Epoch 27/100\n",
            "10/10 [==============================] - 0s 8ms/step - loss: nan - val_loss: nan\n",
            "Epoch 28/100\n",
            "10/10 [==============================] - 0s 9ms/step - loss: nan - val_loss: nan\n",
            "Epoch 29/100\n",
            "10/10 [==============================] - 0s 8ms/step - loss: nan - val_loss: nan\n",
            "Epoch 30/100\n",
            "10/10 [==============================] - 0s 10ms/step - loss: nan - val_loss: nan\n",
            "Epoch 31/100\n",
            "10/10 [==============================] - 0s 10ms/step - loss: nan - val_loss: nan\n",
            "Epoch 32/100\n",
            "10/10 [==============================] - 0s 8ms/step - loss: nan - val_loss: nan\n",
            "Epoch 33/100\n",
            "10/10 [==============================] - 0s 8ms/step - loss: nan - val_loss: nan\n",
            "Epoch 34/100\n",
            "10/10 [==============================] - 0s 9ms/step - loss: nan - val_loss: nan\n",
            "Epoch 35/100\n",
            "10/10 [==============================] - 0s 10ms/step - loss: nan - val_loss: nan\n",
            "Epoch 36/100\n",
            "10/10 [==============================] - 0s 7ms/step - loss: nan - val_loss: nan\n",
            "Epoch 37/100\n",
            "10/10 [==============================] - 0s 8ms/step - loss: nan - val_loss: nan\n",
            "Epoch 38/100\n",
            "10/10 [==============================] - 0s 14ms/step - loss: nan - val_loss: nan\n",
            "Epoch 39/100\n",
            "10/10 [==============================] - 0s 20ms/step - loss: nan - val_loss: nan\n",
            "Epoch 40/100\n",
            "10/10 [==============================] - 0s 24ms/step - loss: nan - val_loss: nan\n",
            "Epoch 41/100\n",
            "10/10 [==============================] - 0s 23ms/step - loss: nan - val_loss: nan\n",
            "Epoch 42/100\n",
            "10/10 [==============================] - 0s 20ms/step - loss: nan - val_loss: nan\n",
            "Epoch 43/100\n",
            "10/10 [==============================] - 0s 25ms/step - loss: nan - val_loss: nan\n",
            "Epoch 44/100\n",
            "10/10 [==============================] - 0s 37ms/step - loss: nan - val_loss: nan\n",
            "Epoch 45/100\n",
            "10/10 [==============================] - 0s 29ms/step - loss: nan - val_loss: nan\n",
            "Epoch 46/100\n",
            "10/10 [==============================] - 0s 8ms/step - loss: nan - val_loss: nan\n",
            "Epoch 47/100\n",
            "10/10 [==============================] - 0s 9ms/step - loss: nan - val_loss: nan\n",
            "Epoch 48/100\n",
            "10/10 [==============================] - 0s 10ms/step - loss: nan - val_loss: nan\n",
            "Epoch 49/100\n",
            "10/10 [==============================] - 0s 8ms/step - loss: nan - val_loss: nan\n",
            "Epoch 50/100\n",
            "10/10 [==============================] - 0s 11ms/step - loss: nan - val_loss: nan\n",
            "Epoch 51/100\n",
            "10/10 [==============================] - 0s 16ms/step - loss: nan - val_loss: nan\n",
            "Epoch 52/100\n",
            "10/10 [==============================] - 0s 8ms/step - loss: nan - val_loss: nan\n",
            "Epoch 53/100\n",
            "10/10 [==============================] - 0s 9ms/step - loss: nan - val_loss: nan\n",
            "Epoch 54/100\n",
            "10/10 [==============================] - 0s 9ms/step - loss: nan - val_loss: nan\n",
            "Epoch 55/100\n",
            "10/10 [==============================] - 0s 9ms/step - loss: nan - val_loss: nan\n",
            "Epoch 56/100\n",
            "10/10 [==============================] - 0s 8ms/step - loss: nan - val_loss: nan\n",
            "Epoch 57/100\n",
            "10/10 [==============================] - 0s 10ms/step - loss: nan - val_loss: nan\n",
            "Epoch 58/100\n",
            "10/10 [==============================] - 0s 10ms/step - loss: nan - val_loss: nan\n",
            "Epoch 59/100\n",
            "10/10 [==============================] - 0s 8ms/step - loss: nan - val_loss: nan\n",
            "Epoch 60/100\n",
            "10/10 [==============================] - 0s 11ms/step - loss: nan - val_loss: nan\n",
            "Epoch 61/100\n",
            "10/10 [==============================] - 0s 9ms/step - loss: nan - val_loss: nan\n",
            "Epoch 62/100\n",
            "10/10 [==============================] - 0s 9ms/step - loss: nan - val_loss: nan\n",
            "Epoch 63/100\n",
            "10/10 [==============================] - 0s 8ms/step - loss: nan - val_loss: nan\n",
            "Epoch 64/100\n",
            "10/10 [==============================] - 0s 9ms/step - loss: nan - val_loss: nan\n",
            "Epoch 65/100\n",
            "10/10 [==============================] - 0s 8ms/step - loss: nan - val_loss: nan\n",
            "Epoch 66/100\n",
            "10/10 [==============================] - 0s 9ms/step - loss: nan - val_loss: nan\n",
            "Epoch 67/100\n",
            "10/10 [==============================] - 0s 11ms/step - loss: nan - val_loss: nan\n",
            "Epoch 68/100\n",
            "10/10 [==============================] - 0s 27ms/step - loss: nan - val_loss: nan\n",
            "Epoch 69/100\n",
            "10/10 [==============================] - 0s 20ms/step - loss: nan - val_loss: nan\n",
            "Epoch 70/100\n",
            "10/10 [==============================] - 0s 18ms/step - loss: nan - val_loss: nan\n",
            "Epoch 71/100\n",
            "10/10 [==============================] - 0s 19ms/step - loss: nan - val_loss: nan\n",
            "Epoch 72/100\n",
            "10/10 [==============================] - 0s 13ms/step - loss: nan - val_loss: nan\n",
            "Epoch 73/100\n",
            "10/10 [==============================] - 0s 9ms/step - loss: nan - val_loss: nan\n",
            "Epoch 74/100\n",
            "10/10 [==============================] - 0s 18ms/step - loss: nan - val_loss: nan\n",
            "Epoch 75/100\n",
            "10/10 [==============================] - 0s 21ms/step - loss: nan - val_loss: nan\n",
            "Epoch 76/100\n",
            "10/10 [==============================] - 0s 10ms/step - loss: nan - val_loss: nan\n",
            "Epoch 77/100\n",
            "10/10 [==============================] - 0s 7ms/step - loss: nan - val_loss: nan\n",
            "Epoch 78/100\n",
            "10/10 [==============================] - 0s 10ms/step - loss: nan - val_loss: nan\n",
            "Epoch 79/100\n",
            "10/10 [==============================] - 0s 9ms/step - loss: nan - val_loss: nan\n",
            "Epoch 80/100\n",
            "10/10 [==============================] - 0s 9ms/step - loss: nan - val_loss: nan\n",
            "Epoch 81/100\n",
            "10/10 [==============================] - 0s 11ms/step - loss: nan - val_loss: nan\n",
            "Epoch 82/100\n",
            "10/10 [==============================] - 0s 9ms/step - loss: nan - val_loss: nan\n",
            "Epoch 83/100\n",
            "10/10 [==============================] - 0s 11ms/step - loss: nan - val_loss: nan\n",
            "Epoch 84/100\n",
            "10/10 [==============================] - 0s 8ms/step - loss: nan - val_loss: nan\n",
            "Epoch 85/100\n",
            "10/10 [==============================] - 0s 12ms/step - loss: nan - val_loss: nan\n",
            "Epoch 86/100\n",
            "10/10 [==============================] - 0s 9ms/step - loss: nan - val_loss: nan\n",
            "Epoch 87/100\n",
            "10/10 [==============================] - 0s 9ms/step - loss: nan - val_loss: nan\n",
            "Epoch 88/100\n",
            "10/10 [==============================] - 0s 9ms/step - loss: nan - val_loss: nan\n",
            "Epoch 89/100\n",
            "10/10 [==============================] - 0s 12ms/step - loss: nan - val_loss: nan\n",
            "Epoch 90/100\n",
            "10/10 [==============================] - 0s 9ms/step - loss: nan - val_loss: nan\n",
            "Epoch 91/100\n",
            "10/10 [==============================] - 0s 12ms/step - loss: nan - val_loss: nan\n",
            "Epoch 92/100\n",
            "10/10 [==============================] - 0s 9ms/step - loss: nan - val_loss: nan\n",
            "Epoch 93/100\n",
            "10/10 [==============================] - 0s 9ms/step - loss: nan - val_loss: nan\n",
            "Epoch 94/100\n",
            "10/10 [==============================] - 0s 15ms/step - loss: nan - val_loss: nan\n",
            "Epoch 95/100\n",
            "10/10 [==============================] - 0s 9ms/step - loss: nan - val_loss: nan\n",
            "Epoch 96/100\n",
            "10/10 [==============================] - 0s 7ms/step - loss: nan - val_loss: nan\n",
            "Epoch 97/100\n",
            "10/10 [==============================] - 0s 5ms/step - loss: nan - val_loss: nan\n",
            "Epoch 98/100\n",
            "10/10 [==============================] - 0s 7ms/step - loss: nan - val_loss: nan\n",
            "Epoch 99/100\n",
            "10/10 [==============================] - 0s 7ms/step - loss: nan - val_loss: nan\n",
            "Epoch 100/100\n",
            "10/10 [==============================] - 0s 7ms/step - loss: nan - val_loss: nan\n"
          ]
        },
        {
          "output_type": "execute_result",
          "data": {
            "text/plain": [
              "<keras.src.callbacks.History at 0x7f27a89bff40>"
            ]
          },
          "metadata": {},
          "execution_count": 37
        }
      ]
    },
    {
      "cell_type": "code",
      "source": [
        "\n",
        "# Evaluate the model on the testing set\n",
        "y_pred = model.predict(X_test_scaled)"
      ],
      "metadata": {
        "colab": {
          "base_uri": "https://localhost:8080/"
        },
        "id": "FnXuU9Zc2YUr",
        "outputId": "b9751083-afc8-4f44-f9a0-3fb6a281dcd9"
      },
      "execution_count": 29,
      "outputs": [
        {
          "output_type": "stream",
          "name": "stdout",
          "text": [
            "4/4 [==============================] - 0s 3ms/step\n"
          ]
        }
      ]
    },
    {
      "cell_type": "code",
      "source": [
        "# Check for NaN values in the predictions\n",
        "if np.isnan(y_pred).any():\n",
        "    print(\"NaN values found in predictions\")\n",
        "else:\n",
        "    # Calculate Mean Squared Error (MSE)\n",
        "    mse = mean_squared_error(y_test, y_pred)\n",
        "    print(\"Mean Squared Error:\", mse)\n"
      ],
      "metadata": {
        "colab": {
          "base_uri": "https://localhost:8080/"
        },
        "id": "-z51-lquQ8Dp",
        "outputId": "70d9d36b-fcfd-4656-8f0d-10037876c1b2"
      },
      "execution_count": 30,
      "outputs": [
        {
          "output_type": "stream",
          "name": "stdout",
          "text": [
            "Mean Squared Error: 23455693134.765625\n"
          ]
        }
      ]
    }
  ]
}